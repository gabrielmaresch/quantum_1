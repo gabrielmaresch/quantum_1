{
 "cells": [
  {
   "cell_type": "code",
   "execution_count": 3,
   "id": "59f85aff-02ee-49b9-9834-7c8da250505a",
   "metadata": {},
   "outputs": [
    {
     "name": "stdout",
     "output_type": "stream",
     "text": [
      "Collecting bigtree\n",
      "  Downloading bigtree-0.19.2-py3-none-any.whl.metadata (8.5 kB)\n",
      "Downloading bigtree-0.19.2-py3-none-any.whl (76 kB)\n",
      "   ---------------------------------------- 0.0/76.9 kB ? eta -:--:--\n",
      "   ----- ---------------------------------- 10.2/76.9 kB ? eta -:--:--\n",
      "   ----- ---------------------------------- 10.2/76.9 kB ? eta -:--:--\n",
      "   --------------------- ------------------ 41.0/76.9 kB 326.8 kB/s eta 0:00:01\n",
      "   ---------------------------------------- 76.9/76.9 kB 605.6 kB/s eta 0:00:00\n",
      "Installing collected packages: bigtree\n",
      "Successfully installed bigtree-0.19.2\n",
      "Note: you may need to restart the kernel to use updated packages.\n"
     ]
    }
   ],
   "source": [
    "%pip install bigtree"
   ]
  },
  {
   "cell_type": "code",
   "execution_count": 15,
   "id": "9088c74e-23eb-4a6e-9e52-b78c4278f07e",
   "metadata": {},
   "outputs": [
    {
     "name": "stdout",
     "output_type": "stream",
     "text": [
      "['000', '001', '000', '001']\n",
      "# cards player 1, # cards player 2, # cards not in play: [0, 2, 2]\n",
      "0\n",
      "valid\n"
     ]
    }
   ],
   "source": [
    "import numpy as np\n",
    "import qiskit.transpiler\n",
    "\n",
    "from qiskit import QuantumRegister, ClassicalRegister, QuantumCircuit\n",
    "from qiskit.circuit.library.standard_gates import RYGate, IGate\n",
    "from qiskit.quantum_info import Statevector\n",
    "from qiskit.visualization import plot_histogram\n",
    "from qiskit.primitives import Sampler\n",
    "\n",
    "\n",
    "from bigtree import BinaryNode, preorder_iter\n",
    "\n",
    "\n",
    "def test_bool(tupel):\n",
    "    return (tupel[0] and tupel[1]) or (tupel[0] and tupel[2]) or  (tupel[1] and tupel[2])\n",
    "    \n",
    "def test_one(tupel):\n",
    "    return 1\n",
    "\n",
    "def test_or(tupel):\n",
    "    return (tupel[0] or tupel[1])\n",
    "\n",
    "def test_and(tupel):\n",
    "    return (tupel[0] and tupel[1])\n",
    "\n",
    "def test_range(a,b):\n",
    "    # a..start, b..end, n .. size of tupel\n",
    "    \n",
    "    def f(tupel):\n",
    "        x = ''.join([str(digit) for digit in tupel])[::-1]\n",
    "        if a <= int(x,2) and int(x,2) < b:\n",
    "            return 1\n",
    "        else: \n",
    "            return 0\n",
    "    return f\n",
    "\n",
    "# ------------------        \n",
    "\n",
    "def valid_cards(card_tupel, players = 2,cards_in_hand=2, points = 'none'):\n",
    "    # cards ordered descending (highest card first), no trump cards\n",
    "    # h ... number of cards in hand\n",
    "\n",
    "    ### states:\n",
    "    # 00i hand player i\n",
    "    # 01i played by player i\n",
    "    # 11i stack of player\n",
    "    # 100 not distributed\n",
    "  \n",
    "    \n",
    "    c = 4 #total number of cards\n",
    "    s = 3 #number of playerstate-bits\n",
    "    n =  c*s #length of tupel\n",
    "\n",
    "    if points == 'none':\n",
    "        points = np.ones(n)\n",
    "    \n",
    "    \n",
    "    eval_op = 0\n",
    "    cards = []\n",
    "    # extract tupels corresponding to individual cards\n",
    "    for i in range(c):\n",
    "        cards += [''.join([str(bit) for bit in card_tupel[3*i:3*(i+1)]])]\n",
    "    print(cards)\n",
    "        \n",
    "    #number of cards in hand\n",
    "    check = [0,0,0] # not in play, player 1 , player 2\n",
    "    for card in cards:\n",
    "        if card == '000':\n",
    "            check[1] += 1\n",
    "        elif card == '001':\n",
    "            check[2] += 1\n",
    "        elif card == '100':       \n",
    "            check[0] += 1\n",
    "    print('# cards player 1, # cards player 2, # cards not in play:', check)\n",
    "\n",
    "    condition = (check[1] == cards_in_hand) and (check[2] == cards_in_hand)\n",
    "\n",
    "     #nur ein beispiel\n",
    "\n",
    "    cards_player0 = [i for i, card in enumerate(cards) if card == '110']\n",
    "    cards_player1 = [i for i, card in enumerate(cards) if card == '111']\n",
    "\n",
    "    for i in range(len(cards_player0)):\n",
    "        start_vec = np.zeros(n-3) # platz für eine karte\n",
    "        proj_vec = np.insert(start_vec,3*i,[1,1,0])\n",
    "        state = Statevector(proj_vec)\n",
    "        #print(state)\n",
    "        eval_op = points[i]*state.to_operator()\n",
    "    print(eval_op)\n",
    "\n",
    "    \n",
    "    if condition:\n",
    "        print('valid')\n",
    "        return 1\n",
    "    else:\n",
    "        print('invalid')\n",
    "        return 0\n",
    "\n",
    "valid_cards('000001000001')  \n",
    "# ----------------------\n",
    "    \n",
    "def get_projectionprobs(f, n, projection_bit):\n",
    "    #f .... boolean function on n bits\n",
    "    p_proj = 0\n",
    "    p_full = 0\n",
    "    for i in range(2**n):\n",
    "        argument = []\n",
    "        for k in range(n):\n",
    "            argument+= [i//2**(n-1-k)] \n",
    "            i = i % 2**(n-1-k)\n",
    "        if argument[projection_bit] == 0:\n",
    "            p_proj += f(argument)\n",
    "        p_full += f(argument)\n",
    "\n",
    "    \n",
    "    #Define restricted functions\n",
    "    def f_one(tupel):\n",
    "        t = tupel.copy()\n",
    "        t.insert(projection_bit,1)\n",
    "        return f(t)\n",
    "    \n",
    "    def f_zero(tupel):\n",
    "        t = tupel.copy()\n",
    "        t.insert(projection_bit,0)\n",
    "        return f(t)\n",
    "    \n",
    "    if p_full > 0:\n",
    "        p = round(p_proj/p_full,2)\n",
    "    else:\n",
    "        p = -1\n",
    "    \n",
    "    return p, f_zero, f_one \n",
    "\n",
    "\n",
    "def get_fulltree(f,n,prefix=\"\"):\n",
    "    \n",
    "    p, f_left, f_right = get_projectionprobs(f, n, 0)\n",
    "    if p>= 0:\n",
    "        root = BinaryNode(prefix, p = p)\n",
    "       # print(prefix,\"\\t n=\",n,\"p=\",p)\n",
    "    \n",
    "    else:\n",
    "        return\n",
    "    \n",
    "    if n > 1:\n",
    "        root.children = [get_fulltree(f_left,n-1,prefix+\"0\"),get_fulltree(f_right,n-1,prefix+\"1\")]\n",
    "    #if n == 1:\n",
    "    #    print(f([0]), f([1]))   \n",
    "    return root\n",
    "\n",
    "    \n",
    "def make_qsp(f,n,circuit):\n",
    "    gates = get_fulltree(f,n) \n",
    "    gates.show(attr_list=['p'])\n",
    "        \n",
    "    for node in preorder_iter(gates):\n",
    "        \n",
    "        cond = node.node_name[::-1] # string, aber noch in umgkehrter reihenfolge\n",
    "        p = node.get_attr(\"p\")\n",
    "        work_qubit = node.depth-1\n",
    "        cond_qubits = range(0,work_qubit)\n",
    "        \n",
    "        # print(work_qubit, cond_qubits, cond,p)\n",
    "        \n",
    "        theta = 2*np.arccos(np.sqrt(p))\n",
    "        if node.is_root:\n",
    "            p_gate = RYGate(theta)\n",
    "        else:\n",
    "            p_gate = RYGate(theta).control(len(cond), ctrl_state=cond )\n",
    "        \n",
    "        circuit.append(p_gate, range(node.depth))\n",
    "\n",
    "    \n",
    "    \n",
    "\n",
    "#N= 5\n",
    "#qr = QuantumRegister(N)\n",
    "#qc = QuantumCircuit(qr)    \n",
    "#make_qsp(test_range(3,11),4,qc)\n",
    "#make_qsp(test_bool,3,qc)\n",
    "\n",
    "\n",
    "#qc.measure_all()\n",
    "#qiskit.compiler.transpile(qc, optimization_level=2)\n",
    "#qc.draw()\n",
    "\n",
    "#results = Sampler().run(qc).result()\n",
    "#statistics = results.quasi_dists[0].binary_probabilities()\n",
    "#display(plot_histogram(statistics))"
   ]
  },
  {
   "cell_type": "code",
   "execution_count": 8,
   "id": "42e72e09-95a9-4299-926c-bd3eb89cd99e",
   "metadata": {},
   "outputs": [
    {
     "data": {
      "image/png": "[encoded data removed]",
      "text/plain": [
       "<Figure size 700x500 with 1 Axes>"
      ]
     },
     "metadata": {},
     "output_type": "display_data"
    }
   ],
   "source": [
    "results = Sampler().run(qc).result()\n",
    "statistics = results.quasi_dists[0].binary_probabilities()\n",
    "display(plot_histogram(statistics))"
   ]
  },
  {
   "cell_type": "code",
   "execution_count": 9,
   "id": "325e5cd1-c0c3-4f90-a02b-b91491d7f777",
   "metadata": {},
   "outputs": [
    {
     "name": "stdout",
     "output_type": "stream",
     "text": [
      "['110', '000', '111', '110']\n",
      "# cards player 1, # cards player 2, # cards not in play: [1, 0, 0]\n",
      "Operator([[0.+0.j, 0.+0.j, 0.+0.j, 0.+0.j, 0.+0.j, 0.+0.j, 0.+0.j, 0.+0.j,\n",
      "           0.+0.j, 0.+0.j, 0.+0.j, 0.+0.j],\n",
      "          [0.+0.j, 0.+0.j, 0.+0.j, 0.+0.j, 0.+0.j, 0.+0.j, 0.+0.j, 0.+0.j,\n",
      "           0.+0.j, 0.+0.j, 0.+0.j, 0.+0.j],\n",
      "          [0.+0.j, 0.+0.j, 0.+0.j, 0.+0.j, 0.+0.j, 0.+0.j, 0.+0.j, 0.+0.j,\n",
      "           0.+0.j, 0.+0.j, 0.+0.j, 0.+0.j],\n",
      "          [0.+0.j, 0.+0.j, 0.+0.j, 1.+0.j, 1.+0.j, 0.+0.j, 0.+0.j, 0.+0.j,\n",
      "           0.+0.j, 0.+0.j, 0.+0.j, 0.+0.j],\n",
      "          [0.+0.j, 0.+0.j, 0.+0.j, 1.+0.j, 1.+0.j, 0.+0.j, 0.+0.j, 0.+0.j,\n",
      "           0.+0.j, 0.+0.j, 0.+0.j, 0.+0.j],\n",
      "          [0.+0.j, 0.+0.j, 0.+0.j, 0.+0.j, 0.+0.j, 0.+0.j, 0.+0.j, 0.+0.j,\n",
      "           0.+0.j, 0.+0.j, 0.+0.j, 0.+0.j],\n",
      "          [0.+0.j, 0.+0.j, 0.+0.j, 0.+0.j, 0.+0.j, 0.+0.j, 0.+0.j, 0.+0.j,\n",
      "           0.+0.j, 0.+0.j, 0.+0.j, 0.+0.j],\n",
      "          [0.+0.j, 0.+0.j, 0.+0.j, 0.+0.j, 0.+0.j, 0.+0.j, 0.+0.j, 0.+0.j,\n",
      "           0.+0.j, 0.+0.j, 0.+0.j, 0.+0.j],\n",
      "          [0.+0.j, 0.+0.j, 0.+0.j, 0.+0.j, 0.+0.j, 0.+0.j, 0.+0.j, 0.+0.j,\n",
      "           0.+0.j, 0.+0.j, 0.+0.j, 0.+0.j],\n",
      "          [0.+0.j, 0.+0.j, 0.+0.j, 0.+0.j, 0.+0.j, 0.+0.j, 0.+0.j, 0.+0.j,\n",
      "           0.+0.j, 0.+0.j, 0.+0.j, 0.+0.j],\n",
      "          [0.+0.j, 0.+0.j, 0.+0.j, 0.+0.j, 0.+0.j, 0.+0.j, 0.+0.j, 0.+0.j,\n",
      "           0.+0.j, 0.+0.j, 0.+0.j, 0.+0.j],\n",
      "          [0.+0.j, 0.+0.j, 0.+0.j, 0.+0.j, 0.+0.j, 0.+0.j, 0.+0.j, 0.+0.j,\n",
      "           0.+0.j, 0.+0.j, 0.+0.j, 0.+0.j]],\n",
      "         input_dims=(12,), output_dims=(12,))\n",
      "invalid\n"
     ]
    }
   ],
   "source": [
    "#a= valid_cards2([0,0,0,1,0,0,0,1,0,0,0,1])\n",
    "#b= valid_cards2([0,1,0,0,0,0,0,0,0,0,1,1])\n",
    "c= valid_cards2([1,1,0,0,0,0,1,1,1,1,1,0])\n",
    "\n"
   ]
  },
  {
   "cell_type": "code",
   "execution_count": 121,
   "id": "1dee5748-c48a-4a62-9063-0eab2b62e90e",
   "metadata": {},
   "outputs": [],
   "source": [
    "a= ['000', '100', '010', '001']"
   ]
  },
  {
   "cell_type": "code",
   "execution_count": 9,
   "id": "1aad3d7d-0f24-4401-9eff-ffe1d2e7552b",
   "metadata": {},
   "outputs": [
    {
     "data": {
      "text/plain": [
       "array([[1, 0, 0],\n",
       "       [0, 2, 0],\n",
       "       [0, 0, 3]])"
      ]
     },
     "execution_count": 9,
     "metadata": {},
     "output_type": "execute_result"
    }
   ],
   "source": [
    "np.diagflat([])"
   ]
  },
  {
   "cell_type": "code",
   "execution_count": 12,
   "id": "b485778b-3820-49cc-afa0-63f75f9b7432",
   "metadata": {},
   "outputs": [
    {
     "data": {
      "text/plain": [
       "2"
      ]
     },
     "execution_count": 12,
     "metadata": {},
     "output_type": "execute_result"
    }
   ],
   "source": [
    "a= [4,5,6]\n",
    "a.index(6)"
   ]
  },
  {
   "cell_type": "code",
   "execution_count": 14,
   "id": "971afd20-dd82-49c3-aef7-6406351cb5ce",
   "metadata": {},
   "outputs": [],
   "source": [
    "a= np.zeros(4)"
   ]
  },
  {
   "cell_type": "code",
   "execution_count": null,
   "id": "d749a080-5546-44d3-b6c8-7d2033edd969",
   "metadata": {},
   "outputs": [],
   "source": []
  },
  {
   "cell_type": "code",
   "execution_count": 37,
   "id": "6220966c-bbae-4195-a734-2ca6df98cf16",
   "metadata": {},
   "outputs": [],
   "source": [
    "b=np.insert(a,1,[1,2,4])\n",
    "psi = Statevector(b)"
   ]
  },
  {
   "cell_type": "code",
   "execution_count": 38,
   "id": "263afbc6-c9e3-43d1-af98-5b23e19d6d87",
   "metadata": {},
   "outputs": [
    {
     "name": "stdout",
     "output_type": "stream",
     "text": [
      "{'01': (1+0j), '10': (2+0j), '11': (4+0j)}\n"
     ]
    }
   ],
   "source": [
    "print(psi.to_dict())"
   ]
  },
  {
   "cell_type": "code",
   "execution_count": 39,
   "id": "fff692ab-aaed-4702-ba63-5f5c951b3841",
   "metadata": {},
   "outputs": [],
   "source": [
    "p = psi.to_operator()"
   ]
  },
  {
   "cell_type": "code",
   "execution_count": 40,
   "id": "5f912b80-a3eb-4815-9182-5f283d0dda3b",
   "metadata": {},
   "outputs": [
    {
     "name": "stdout",
     "output_type": "stream",
     "text": [
      "Operator([[ 0.+0.j,  0.+0.j,  0.+0.j,  0.+0.j],\n",
      "          [ 0.+0.j,  1.+0.j,  2.+0.j,  4.+0.j],\n",
      "          [ 0.+0.j,  2.+0.j,  4.+0.j,  8.+0.j],\n",
      "          [ 0.+0.j,  4.+0.j,  8.+0.j, 16.+0.j]],\n",
      "         input_dims=(2, 2), output_dims=(2, 2))\n"
     ]
    }
   ],
   "source": [
    "p"
   ]
  },
  {
   "cell_type": "code",
   "execution_count": null,
   "id": "2c02c79a-a8ef-40d7-855d-c4410247447d",
   "metadata": {},
   "outputs": [],
   "source": []
  }
 ],
 "metadata": {
  "kernelspec": {
   "display_name": "Python 3 (ipykernel)",
   "language": "python",
   "name": "python3"
  },
  "language_info": {
   "codemirror_mode": {
    "name": "ipython",
    "version": 3
   },
   "file_extension": ".py",
   "mimetype": "text/x-python",
   "name": "python",
   "nbconvert_exporter": "python",
   "pygments_lexer": "ipython3",
   "version": "3.11.9"
  }
 },
 "nbformat": 4,
 "nbformat_minor": 5
}
